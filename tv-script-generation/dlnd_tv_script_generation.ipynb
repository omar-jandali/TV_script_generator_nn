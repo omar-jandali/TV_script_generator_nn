{
 "cells": [
  {
   "cell_type": "markdown",
   "metadata": {},
   "source": [
    "# TV Script Generation\n",
    "In this project, you'll generate your own [Simpsons](https://en.wikipedia.org/wiki/The_Simpsons) TV scripts using RNNs.  You'll be using part of the [Simpsons dataset](https://www.kaggle.com/wcukierski/the-simpsons-by-the-data) of scripts from 27 seasons.  The Neural Network you'll build will generate a new TV script for a scene at [Moe's Tavern](https://simpsonswiki.com/wiki/Moe's_Tavern).\n",
    "## Get the Data\n",
    "The data is already provided for you.  You'll be using a subset of the original dataset.  It consists of only the scenes in Moe's Tavern.  This doesn't include other versions of the tavern, like \"Moe's Cavern\", \"Flaming Moe's\", \"Uncle Moe's Family Feed-Bag\", etc.."
   ]
  },
  {
   "cell_type": "code",
   "execution_count": 87,
   "metadata": {},
   "outputs": [],
   "source": [
    "\"\"\"\n",
    "DON'T MODIFY ANYTHING IN THIS CELL\n",
    "\"\"\"\n",
    "import helper\n",
    "\n",
    "data_dir = './data/simpsons/moes_tavern_lines.txt'\n",
    "text = helper.load_data(data_dir)\n",
    "# Ignore notice, since we don't use it for analysing the data\n",
    "text = text[81:]"
   ]
  },
  {
   "cell_type": "markdown",
   "metadata": {},
   "source": [
    "## Explore the Data\n",
    "Play around with `view_sentence_range` to view different parts of the data."
   ]
  },
  {
   "cell_type": "code",
   "execution_count": 88,
   "metadata": {},
   "outputs": [
    {
     "name": "stdout",
     "output_type": "stream",
     "text": [
      "Dataset Stats\n",
      "Roughly the number of unique words: 11492\n",
      "Number of scenes: 262\n",
      "Average number of sentences in each scene: 15.248091603053435\n",
      "Number of lines: 4257\n",
      "Average number of words in each line: 11.50434578341555\n",
      "\n",
      "The sentences 0 to 10:\n",
      "Moe_Szyslak: (INTO PHONE) Moe's Tavern. Where the elite meet to drink.\n",
      "Bart_Simpson: Eh, yeah, hello, is Mike there? Last name, Rotch.\n",
      "Moe_Szyslak: (INTO PHONE) Hold on, I'll check. (TO BARFLIES) Mike Rotch. Mike Rotch. Hey, has anybody seen Mike Rotch, lately?\n",
      "Moe_Szyslak: (INTO PHONE) Listen you little puke. One of these days I'm gonna catch you, and I'm gonna carve my name on your back with an ice pick.\n",
      "Moe_Szyslak: What's the matter Homer? You're not your normal effervescent self.\n",
      "Homer_Simpson: I got my problems, Moe. Give me another one.\n",
      "Moe_Szyslak: Homer, hey, you should not drink to forget your problems.\n",
      "Barney_Gumble: Yeah, you should only drink to enhance your social skills.\n",
      "\n",
      "\n"
     ]
    }
   ],
   "source": [
    "view_sentence_range = (0, 10)\n",
    "\n",
    "\"\"\"\n",
    "DON'T MODIFY ANYTHING IN THIS CELL\n",
    "\"\"\"\n",
    "import numpy as np\n",
    "\n",
    "print('Dataset Stats')\n",
    "print('Roughly the number of unique words: {}'.format(len({word: None for word in text.split()})))\n",
    "scenes = text.split('\\n\\n')\n",
    "print('Number of scenes: {}'.format(len(scenes)))\n",
    "sentence_count_scene = [scene.count('\\n') for scene in scenes]\n",
    "print('Average number of sentences in each scene: {}'.format(np.average(sentence_count_scene)))\n",
    "\n",
    "sentences = [sentence for scene in scenes for sentence in scene.split('\\n')]\n",
    "print('Number of lines: {}'.format(len(sentences)))\n",
    "word_count_sentence = [len(sentence.split()) for sentence in sentences]\n",
    "print('Average number of words in each line: {}'.format(np.average(word_count_sentence)))\n",
    "\n",
    "print()\n",
    "print('The sentences {} to {}:'.format(*view_sentence_range))\n",
    "print('\\n'.join(text.split('\\n')[view_sentence_range[0]:view_sentence_range[1]]))"
   ]
  },
  {
   "cell_type": "markdown",
   "metadata": {},
   "source": [
    "## Implement Preprocessing Functions\n",
    "The first thing to do to any dataset is preprocessing.  Implement the following preprocessing functions below:\n",
    "- Lookup Table\n",
    "- Tokenize Punctuation\n",
    "\n",
    "### Lookup Table\n",
    "To create a word embedding, you first need to transform the words to ids.  In this function, create two dictionaries:\n",
    "- Dictionary to go from the words to an id, we'll call `vocab_to_int`\n",
    "- Dictionary to go from the id to word, we'll call `int_to_vocab`\n",
    "\n",
    "Return these dictionaries in the following tuple `(vocab_to_int, int_to_vocab)`"
   ]
  },
  {
   "cell_type": "code",
   "execution_count": 89,
   "metadata": {},
   "outputs": [
    {
     "name": "stdout",
     "output_type": "stream",
     "text": [
      "Tests Passed\n"
     ]
    }
   ],
   "source": [
    "import numpy as np\n",
    "import problem_unittests as tests\n",
    "\n",
    "def create_lookup_tables(text):\n",
    "    \"\"\"\n",
    "    Create lookup tables for vocabulary\n",
    "    :param text: The text of tv scripts split into words\n",
    "    :return: A tuple of dicts (vocab_to_int, int_to_vocab)\n",
    "    \"\"\"\n",
    "    # TODO: Implement Function\n",
    "    # created a set for all of the words in the text\n",
    "    words = set(text)\n",
    "    #tokenized the words in the set\n",
    "    vocab_to_int = {v: t for t, v in enumerate(words)}\n",
    "    # created an index for each of the int references for each item in the vocab list\n",
    "    int_to_vocab = {v: t for t, v in vocab_to_int.items()}\n",
    "    return (vocab_to_int, int_to_vocab)\n",
    "\n",
    "\n",
    "\"\"\"\n",
    "DON'T MODIFY ANYTHING IN THIS CELL THAT IS BELOW THIS LINE\n",
    "\"\"\"\n",
    "tests.test_create_lookup_tables(create_lookup_tables)"
   ]
  },
  {
   "cell_type": "markdown",
   "metadata": {},
   "source": [
    "### Tokenize Punctuation\n",
    "We'll be splitting the script into a word array using spaces as delimiters.  However, punctuations like periods and exclamation marks make it hard for the neural network to distinguish between the word \"bye\" and \"bye!\".\n",
    "\n",
    "Implement the function `token_lookup` to return a dict that will be used to tokenize symbols like \"!\" into \"||Exclamation_Mark||\".  Create a dictionary for the following symbols where the symbol is the key and value is the token:\n",
    "- Period ( . )\n",
    "- Comma ( , )\n",
    "- Quotation Mark ( \" )\n",
    "- Semicolon ( ; )\n",
    "- Exclamation mark ( ! )\n",
    "- Question mark ( ? )\n",
    "- Left Parentheses ( ( )\n",
    "- Right Parentheses ( ) )\n",
    "- Dash ( -- )\n",
    "- Return ( \\n )\n",
    "\n",
    "This dictionary will be used to token the symbols and add the delimiter (space) around it.  This separates the symbols as it's own word, making it easier for the neural network to predict on the next word. Make sure you don't use a token that could be confused as a word. Instead of using the token \"dash\", try using something like \"||dash||\"."
   ]
  },
  {
   "cell_type": "code",
   "execution_count": 90,
   "metadata": {},
   "outputs": [
    {
     "name": "stdout",
     "output_type": "stream",
     "text": [
      "Tests Passed\n"
     ]
    }
   ],
   "source": [
    "def token_lookup():\n",
    "    \"\"\"\n",
    "    Generate a dict to turn punctuation into a token.\n",
    "    :return: Tokenize dictionary where the key is the punctuation and the value is the token\n",
    "    \"\"\"\n",
    "    # TODO: Implement Function\n",
    "    punctuation = {\n",
    "        '.':'||Period||',\n",
    "        ',':'||Comma||',\n",
    "        '\\\"':'||Quotation_Mark||',\n",
    "        ';':'||Semicolon||',\n",
    "        '!':'||Exclamation_Mark||',\n",
    "        '?':'||Question_Mark||',\n",
    "        '(':'||Left_Parentheses||',\n",
    "        ')':'||Right_Parentheses||',\n",
    "        '--':'||Dash||',\n",
    "        '\\n':'||Return||',\n",
    "    }\n",
    "    return punctuation\n",
    "\n",
    "\"\"\"\n",
    "DON'T MODIFY ANYTHING IN THIS CELL THAT IS BELOW THIS LINE\n",
    "\"\"\"\n",
    "tests.test_tokenize(token_lookup)"
   ]
  },
  {
   "cell_type": "markdown",
   "metadata": {},
   "source": [
    "## Preprocess all the data and save it\n",
    "Running the code cell below will preprocess all the data and save it to file."
   ]
  },
  {
   "cell_type": "code",
   "execution_count": 91,
   "metadata": {},
   "outputs": [],
   "source": [
    "\"\"\"\n",
    "DON'T MODIFY ANYTHING IN THIS CELL\n",
    "\"\"\"\n",
    "# Preprocess Training, Validation, and Testing Data\n",
    "helper.preprocess_and_save_data(data_dir, token_lookup, create_lookup_tables)"
   ]
  },
  {
   "cell_type": "markdown",
   "metadata": {},
   "source": [
    "# Check Point\n",
    "This is your first checkpoint. If you ever decide to come back to this notebook or have to restart the notebook, you can start from here. The preprocessed data has been saved to disk."
   ]
  },
  {
   "cell_type": "code",
   "execution_count": 92,
   "metadata": {},
   "outputs": [],
   "source": [
    "\"\"\"\n",
    "DON'T MODIFY ANYTHING IN THIS CELL\n",
    "\"\"\"\n",
    "import helper\n",
    "import numpy as np\n",
    "import problem_unittests as tests\n",
    "\n",
    "int_text, vocab_to_int, int_to_vocab, token_dict = helper.load_preprocess()"
   ]
  },
  {
   "cell_type": "markdown",
   "metadata": {},
   "source": [
    "## Build the Neural Network\n",
    "You'll build the components necessary to build a RNN by implementing the following functions below:\n",
    "- get_inputs\n",
    "- get_init_cell\n",
    "- get_embed\n",
    "- build_rnn\n",
    "- build_nn\n",
    "- get_batches\n",
    "\n",
    "### Check the Version of TensorFlow and Access to GPU"
   ]
  },
  {
   "cell_type": "code",
   "execution_count": 93,
   "metadata": {},
   "outputs": [
    {
     "name": "stdout",
     "output_type": "stream",
     "text": [
      "TensorFlow Version: 1.0.0\n",
      "Default GPU Device: /gpu:0\n"
     ]
    }
   ],
   "source": [
    "\"\"\"\n",
    "DON'T MODIFY ANYTHING IN THIS CELL\n",
    "\"\"\"\n",
    "from distutils.version import LooseVersion\n",
    "import warnings\n",
    "import tensorflow as tf\n",
    "\n",
    "# Check TensorFlow Version\n",
    "assert LooseVersion(tf.__version__) >= LooseVersion('1.0'), 'Please use TensorFlow version 1.0 or newer'\n",
    "print('TensorFlow Version: {}'.format(tf.__version__))\n",
    "\n",
    "# Check for a GPU\n",
    "if not tf.test.gpu_device_name():\n",
    "    warnings.warn('No GPU found. Please use a GPU to train your neural network.')\n",
    "else:\n",
    "    print('Default GPU Device: {}'.format(tf.test.gpu_device_name()))"
   ]
  },
  {
   "cell_type": "markdown",
   "metadata": {},
   "source": [
    "### Input\n",
    "Implement the `get_inputs()` function to create TF Placeholders for the Neural Network.  It should create the following placeholders:\n",
    "- Input text placeholder named \"input\" using the [TF Placeholder](https://www.tensorflow.org/api_docs/python/tf/placeholder) `name` parameter.\n",
    "- Targets placeholder\n",
    "- Learning Rate placeholder\n",
    "\n",
    "Return the placeholders in the following tuple `(Input, Targets, LearningRate)`"
   ]
  },
  {
   "cell_type": "code",
   "execution_count": 94,
   "metadata": {},
   "outputs": [
    {
     "name": "stdout",
     "output_type": "stream",
     "text": [
      "Tests Passed\n"
     ]
    }
   ],
   "source": [
    "def get_inputs():\n",
    "    \"\"\"\n",
    "    Create TF Placeholders for input, targets, and learning rate.\n",
    "    :return: Tuple (input, targets, learning rate)\n",
    "    \"\"\"\n",
    "    # TODO: Implement Function\n",
    "    input = tf.placeholder(tf.int32, shape=(None,None), name=\"input\")\n",
    "    target = tf.placeholder(tf.int32, shape=(None,None), name=\"target\")\n",
    "    learning_rate = tf.placeholder(tf.float64, name=\"learning_rate\")\n",
    "    return (input, target, learning_rate)\n",
    "\n",
    "\n",
    "\"\"\"\n",
    "DON'T MODIFY ANYTHING IN THIS CELL THAT IS BELOW THIS LINE\n",
    "\"\"\"\n",
    "tests.test_get_inputs(get_inputs)"
   ]
  },
  {
   "cell_type": "markdown",
   "metadata": {},
   "source": [
    "### Build RNN Cell and Initialize\n",
    "Stack one or more [`BasicLSTMCells`](https://www.tensorflow.org/api_docs/python/tf/contrib/rnn/BasicLSTMCell) in a [`MultiRNNCell`](https://www.tensorflow.org/api_docs/python/tf/contrib/rnn/MultiRNNCell).\n",
    "- The Rnn size should be set using `rnn_size`\n",
    "- Initalize Cell State using the MultiRNNCell's [`zero_state()`](https://www.tensorflow.org/api_docs/python/tf/contrib/rnn/MultiRNNCell#zero_state) function\n",
    "    - Apply the name \"initial_state\" to the initial state using [`tf.identity()`](https://www.tensorflow.org/api_docs/python/tf/identity)\n",
    "\n",
    "Return the cell and initial state in the following tuple `(Cell, InitialState)`"
   ]
  },
  {
   "cell_type": "code",
   "execution_count": 120,
   "metadata": {},
   "outputs": [
    {
     "name": "stdout",
     "output_type": "stream",
     "text": [
      "Tests Passed\n"
     ]
    }
   ],
   "source": [
    "def get_init_cell(batch_size, rnn_size):\n",
    "    \"\"\"\n",
    "    Create an RNN Cell and initialize it.\n",
    "    :param batch_size: Size of batches\n",
    "    :param rnn_size: Size of RNNs\n",
    "    :return: Tuple (cell, initialize state)\n",
    "    \"\"\"\n",
    "    # TODO: Implement Function\n",
    "    lstm = tf.contrib.rnn.BasicLSTMCell(rnn_size)\n",
    "    drop = tf.contrib.rnn.DropoutWrapper(lstm, output_keep_prob=.6)\n",
    "    cell = tf.contrib.rnn.MultiRNNCell([drop]*2)\n",
    "    zero_state = cell.zero_state(batch_size, tf.float32)\n",
    "    initial_state = tf.identity(zero_state, name=\"initial_state\")\n",
    "    return (cell, initial_state)\n",
    "\n",
    "\n",
    "\"\"\"\n",
    "DON'T MODIFY ANYTHING IN THIS CELL THAT IS BELOW THIS LINE\n",
    "\"\"\"\n",
    "tests.test_get_init_cell(get_init_cell)"
   ]
  },
  {
   "cell_type": "markdown",
   "metadata": {},
   "source": [
    "### Word Embedding\n",
    "Apply embedding to `input_data` using TensorFlow.  Return the embedded sequence."
   ]
  },
  {
   "cell_type": "code",
   "execution_count": 121,
   "metadata": {},
   "outputs": [
    {
     "name": "stdout",
     "output_type": "stream",
     "text": [
      "Tests Passed\n"
     ]
    }
   ],
   "source": [
    "def get_embed(input_data, vocab_size, embed_dim):\n",
    "    \"\"\"\n",
    "    Create embedding for <input_data>.\n",
    "    :param input_data: TF placeholder for text input.\n",
    "    :param vocab_size: Number of words in vocabulary.\n",
    "    :param embed_dim: Number of embedding dimensions\n",
    "    :return: Embedded input.\n",
    "    \"\"\"\n",
    "    # TODO: Implement Function\n",
    "    embedded = tf.Variable(tf.random_uniform((vocab_size, embed_dim), -1, 1))\n",
    "    embed = tf.nn.embedding_lookup(embedded, input_data)\n",
    "    return embed\n",
    "\n",
    "\n",
    "\"\"\"\n",
    "DON'T MODIFY ANYTHING IN THIS CELL THAT IS BELOW THIS LINE\n",
    "\"\"\"\n",
    "tests.test_get_embed(get_embed)"
   ]
  },
  {
   "cell_type": "markdown",
   "metadata": {},
   "source": [
    "### Build RNN\n",
    "You created a RNN Cell in the `get_init_cell()` function.  Time to use the cell to create a RNN.\n",
    "- Build the RNN using the [`tf.nn.dynamic_rnn()`](https://www.tensorflow.org/api_docs/python/tf/nn/dynamic_rnn)\n",
    " - Apply the name \"final_state\" to the final state using [`tf.identity()`](https://www.tensorflow.org/api_docs/python/tf/identity)\n",
    "\n",
    "Return the outputs and final_state state in the following tuple `(Outputs, FinalState)` "
   ]
  },
  {
   "cell_type": "code",
   "execution_count": 122,
   "metadata": {},
   "outputs": [
    {
     "name": "stdout",
     "output_type": "stream",
     "text": [
      "Tests Passed\n"
     ]
    }
   ],
   "source": [
    "def build_rnn(cell, inputs):\n",
    "    \"\"\"\n",
    "    Create a RNN using a RNN Cell\n",
    "    :param cell: RNN Cell\n",
    "    :param inputs: Input text data\n",
    "    :return: Tuple (Outputs, Final State)\n",
    "    \"\"\"\n",
    "    # TODO: Implement Function\n",
    "    outputs, final_state = tf.nn.dynamic_rnn(cell, inputs, dtype=tf.float32)\n",
    "    final_state = tf.identity(final_state, name=\"final_state\")\n",
    "    return (outputs, final_state)\n",
    "\n",
    "\"\"\"\n",
    "DON'T MODIFY ANYTHING IN THIS CELL THAT IS BELOW THIS LINE\n",
    "\"\"\"\n",
    "tests.test_build_rnn(build_rnn)"
   ]
  },
  {
   "cell_type": "markdown",
   "metadata": {},
   "source": [
    "### Build the Neural Network\n",
    "Apply the functions you implemented above to:\n",
    "- Apply embedding to `input_data` using your `get_embed(input_data, vocab_size, embed_dim)` function.\n",
    "- Build RNN using `cell` and your `build_rnn(cell, inputs)` function.\n",
    "- Apply a fully connected layer with a linear activation and `vocab_size` as the number of outputs.\n",
    "\n",
    "Return the logits and final state in the following tuple (Logits, FinalState) "
   ]
  },
  {
   "cell_type": "code",
   "execution_count": 123,
   "metadata": {},
   "outputs": [
    {
     "name": "stdout",
     "output_type": "stream",
     "text": [
      "Tests Passed\n"
     ]
    }
   ],
   "source": [
    "def build_nn(cell, rnn_size, input_data, vocab_size, embed_dim):\n",
    "    \"\"\"\n",
    "    Build part of the neural network\n",
    "    :param cell: RNN cell\n",
    "    :param rnn_size: Size of rnns\n",
    "    :param input_data: Input data\n",
    "    :param vocab_size: Vocabulary size\n",
    "    :param embed_dim: Number of embedding dimensions\n",
    "    :return: Tuple (Logits, FinalState)\n",
    "    \"\"\"\n",
    "    # TODO: Implement Function\n",
    "    embedding = get_embed(input_data, vocab_size, embed_dim)\n",
    "    rnn_output, state_final = build_rnn(cell, embedding)\n",
    "    logits = tf.contrib.layers.fully_connected(rnn_output, vocab_size, activation_fn = tf.nn.relu)\n",
    "    return (logits, state_final)\n",
    "\n",
    "\n",
    "\"\"\"\n",
    "DON'T MODIFY ANYTHING IN THIS CELL THAT IS BELOW THIS LINE\n",
    "\"\"\"\n",
    "tests.test_build_nn(build_nn)"
   ]
  },
  {
   "cell_type": "markdown",
   "metadata": {},
   "source": [
    "### Batches\n",
    "Implement `get_batches` to create batches of input and targets using `int_text`.  The batches should be a Numpy array with the shape `(number of batches, 2, batch size, sequence length)`. Each batch contains two elements:\n",
    "- The first element is a single batch of **input** with the shape `[batch size, sequence length]`\n",
    "- The second element is a single batch of **targets** with the shape `[batch size, sequence length]`\n",
    "\n",
    "If you can't fill the last batch with enough data, drop the last batch.\n",
    "\n",
    "For example, `get_batches([1, 2, 3, 4, 5, 6, 7, 8, 9, 10, 11, 12, 13, 14, 15, 16, 17, 18, 19, 20], 3, 2)` would return a Numpy array of the following:\n",
    "```\n",
    "[\n",
    "  # First Batch\n",
    "  [\n",
    "    # Batch of Input\n",
    "    [[ 1  2], [ 7  8], [13 14]]\n",
    "    # Batch of targets\n",
    "    [[ 2  3], [ 8  9], [14 15]]\n",
    "  ]\n",
    "\n",
    "  # Second Batch\n",
    "  [\n",
    "    # Batch of Input\n",
    "    [[ 3  4], [ 9 10], [15 16]]\n",
    "    # Batch of targets\n",
    "    [[ 4  5], [10 11], [16 17]]\n",
    "  ]\n",
    "\n",
    "  # Third Batch\n",
    "  [\n",
    "    # Batch of Input\n",
    "    [[ 5  6], [11 12], [17 18]]\n",
    "    # Batch of targets\n",
    "    [[ 6  7], [12 13], [18  1]]\n",
    "  ]\n",
    "]\n",
    "```\n",
    "\n",
    "Notice that the last target value in the last batch is the first input value of the first batch. In this case, `1`. This is a common technique used when creating sequence batches, although it is rather unintuitive."
   ]
  },
  {
   "cell_type": "code",
   "execution_count": 124,
   "metadata": {},
   "outputs": [
    {
     "name": "stdout",
     "output_type": "stream",
     "text": [
      "Tests Passed\n"
     ]
    }
   ],
   "source": [
    "def get_batches(int_text, batch_size, seq_length):\n",
    "    \"\"\"\n",
    "    Return batches of input and target\n",
    "    :param int_text: Text with the words replaced by their ids\n",
    "    :param batch_size: The size of batch\n",
    "    :param seq_length: The length of sequence\n",
    "    :return: Batches as a Numpy array\n",
    "    \"\"\"\n",
    "    # TODO: Implement Function\n",
    "    n_batches = int(len(int_text)/(batch_size * seq_length))\n",
    "    input_data = np.array(int_text[: n_batches * seq_length * batch_size])\n",
    "    target_data = np.array(int_text[1: n_batches * seq_length * batch_size + 1])\n",
    "    input_batch = np.split(input_data.reshape(batch_size, -1), n_batches, 1)\n",
    "    target_batch = np.split(target_data.reshape(batch_size, -1), n_batches, 1)\n",
    "    target_batch[-1][-1][-1] = 0\n",
    "    batches = list(zip(input_batch, target_batch))\n",
    "    batches = np.array(batches)\n",
    "    return batches\n",
    "\n",
    "\n",
    "\"\"\"\n",
    "DON'T MODIFY ANYTHING IN THIS CELL THAT IS BELOW THIS LINE\n",
    "\"\"\"\n",
    "tests.test_get_batches(get_batches)"
   ]
  },
  {
   "cell_type": "markdown",
   "metadata": {},
   "source": [
    "## Neural Network Training\n",
    "### Hyperparameters\n",
    "Tune the following parameters:\n",
    "\n",
    "- Set `num_epochs` to the number of epochs.\n",
    "- Set `batch_size` to the batch size.\n",
    "- Set `rnn_size` to the size of the RNNs.\n",
    "- Set `embed_dim` to the size of the embedding.\n",
    "- Set `seq_length` to the length of sequence.\n",
    "- Set `learning_rate` to the learning rate.\n",
    "- Set `show_every_n_batches` to the number of batches the neural network should print progress."
   ]
  },
  {
   "cell_type": "code",
   "execution_count": 131,
   "metadata": {},
   "outputs": [],
   "source": [
    "# Number of Epochs\n",
    "num_epochs = 400\n",
    "# Batch Size\n",
    "batch_size = 256\n",
    "# RNN Size\n",
    "rnn_size = 512\n",
    "# Embedding Dimension Size\n",
    "embed_dim = 300\n",
    "# Sequence Length\n",
    "seq_length = 12\n",
    "# Learning Rate\n",
    "learning_rate = 0.001\n",
    "# Show stats for every n number of batches\n",
    "show_every_n_batches = 25\n",
    "\n",
    "\"\"\"\n",
    "DON'T MODIFY ANYTHING IN THIS CELL THAT IS BELOW THIS LINE\n",
    "\"\"\"\n",
    "save_dir = './save'"
   ]
  },
  {
   "cell_type": "code",
   "execution_count": null,
   "metadata": {},
   "outputs": [],
   "source": []
  },
  {
   "cell_type": "markdown",
   "metadata": {},
   "source": [
    "### Build the Graph\n",
    "Build the graph using the neural network you implemented."
   ]
  },
  {
   "cell_type": "code",
   "execution_count": 132,
   "metadata": {},
   "outputs": [],
   "source": [
    "\"\"\"\n",
    "DON'T MODIFY ANYTHING IN THIS CELL\n",
    "\"\"\"\n",
    "from tensorflow.contrib import seq2seq\n",
    "\n",
    "train_graph = tf.Graph()\n",
    "with train_graph.as_default():\n",
    "    vocab_size = len(int_to_vocab)\n",
    "    input_text, targets, lr = get_inputs()\n",
    "    input_data_shape = tf.shape(input_text)\n",
    "    cell, initial_state = get_init_cell(input_data_shape[0], rnn_size)\n",
    "    logits, final_state = build_nn(cell, rnn_size, input_text, vocab_size, embed_dim)\n",
    "\n",
    "    # Probabilities for generating words\n",
    "    probs = tf.nn.softmax(logits, name='probs')\n",
    "\n",
    "    # Loss function\n",
    "    cost = seq2seq.sequence_loss(\n",
    "        logits,\n",
    "        targets,\n",
    "        tf.ones([input_data_shape[0], input_data_shape[1]]))\n",
    "\n",
    "    # Optimizer\n",
    "    optimizer = tf.train.AdamOptimizer(lr)\n",
    "\n",
    "    # Gradient Clipping\n",
    "    gradients = optimizer.compute_gradients(cost)\n",
    "    capped_gradients = [(tf.clip_by_value(grad, -1., 1.), var) for grad, var in gradients if grad is not None]\n",
    "    train_op = optimizer.apply_gradients(capped_gradients)"
   ]
  },
  {
   "cell_type": "markdown",
   "metadata": {},
   "source": [
    "## Train\n",
    "Train the neural network on the preprocessed data.  If you have a hard time getting a good loss, check the [forums](https://discussions.udacity.com/) to see if anyone is having the same problem."
   ]
  },
  {
   "cell_type": "code",
   "execution_count": 133,
   "metadata": {
    "scrolled": false
   },
   "outputs": [
    {
     "name": "stdout",
     "output_type": "stream",
     "text": [
      "Epoch   0 Batch    0/22   train_loss = 8.822\n",
      "Epoch   1 Batch    3/22   train_loss = 6.397\n",
      "Epoch   2 Batch    6/22   train_loss = 6.240\n",
      "Epoch   3 Batch    9/22   train_loss = 6.253\n",
      "Epoch   4 Batch   12/22   train_loss = 6.229\n",
      "Epoch   5 Batch   15/22   train_loss = 6.165\n",
      "Epoch   6 Batch   18/22   train_loss = 6.176\n",
      "Epoch   7 Batch   21/22   train_loss = 6.202\n",
      "Epoch   9 Batch    2/22   train_loss = 6.004\n",
      "Epoch  10 Batch    5/22   train_loss = 6.058\n",
      "Epoch  11 Batch    8/22   train_loss = 6.069\n",
      "Epoch  12 Batch   11/22   train_loss = 6.039\n",
      "Epoch  13 Batch   14/22   train_loss = 6.021\n",
      "Epoch  14 Batch   17/22   train_loss = 6.005\n",
      "Epoch  15 Batch   20/22   train_loss = 5.897\n",
      "Epoch  17 Batch    1/22   train_loss = 5.869\n",
      "Epoch  18 Batch    4/22   train_loss = 5.815\n",
      "Epoch  19 Batch    7/22   train_loss = 5.987\n",
      "Epoch  20 Batch   10/22   train_loss = 5.804\n",
      "Epoch  21 Batch   13/22   train_loss = 5.768\n",
      "Epoch  22 Batch   16/22   train_loss = 5.768\n",
      "Epoch  23 Batch   19/22   train_loss = 5.806\n",
      "Epoch  25 Batch    0/22   train_loss = 5.581\n",
      "Epoch  26 Batch    3/22   train_loss = 5.683\n",
      "Epoch  27 Batch    6/22   train_loss = 5.607\n",
      "Epoch  28 Batch    9/22   train_loss = 5.667\n",
      "Epoch  29 Batch   12/22   train_loss = 5.600\n",
      "Epoch  30 Batch   15/22   train_loss = 5.523\n",
      "Epoch  31 Batch   18/22   train_loss = 5.531\n",
      "Epoch  32 Batch   21/22   train_loss = 5.530\n",
      "Epoch  34 Batch    2/22   train_loss = 5.323\n",
      "Epoch  35 Batch    5/22   train_loss = 5.389\n",
      "Epoch  36 Batch    8/22   train_loss = 5.389\n",
      "Epoch  37 Batch   11/22   train_loss = 5.373\n",
      "Epoch  38 Batch   14/22   train_loss = 5.336\n",
      "Epoch  39 Batch   17/22   train_loss = 5.292\n",
      "Epoch  40 Batch   20/22   train_loss = 5.153\n",
      "Epoch  42 Batch    1/22   train_loss = 5.122\n",
      "Epoch  43 Batch    4/22   train_loss = 5.025\n",
      "Epoch  44 Batch    7/22   train_loss = 5.215\n",
      "Epoch  45 Batch   10/22   train_loss = 5.075\n",
      "Epoch  46 Batch   13/22   train_loss = 4.967\n",
      "Epoch  47 Batch   16/22   train_loss = 5.003\n",
      "Epoch  48 Batch   19/22   train_loss = 5.001\n",
      "Epoch  50 Batch    0/22   train_loss = 4.796\n",
      "Epoch  51 Batch    3/22   train_loss = 4.850\n",
      "Epoch  52 Batch    6/22   train_loss = 4.790\n",
      "Epoch  53 Batch    9/22   train_loss = 4.853\n",
      "Epoch  54 Batch   12/22   train_loss = 4.771\n",
      "Epoch  55 Batch   15/22   train_loss = 4.734\n",
      "Epoch  56 Batch   18/22   train_loss = 4.769\n",
      "Epoch  57 Batch   21/22   train_loss = 4.758\n",
      "Epoch  59 Batch    2/22   train_loss = 4.577\n",
      "Epoch  60 Batch    5/22   train_loss = 4.656\n",
      "Epoch  61 Batch    8/22   train_loss = 4.633\n",
      "Epoch  62 Batch   11/22   train_loss = 4.652\n",
      "Epoch  63 Batch   14/22   train_loss = 4.640\n",
      "Epoch  64 Batch   17/22   train_loss = 4.583\n",
      "Epoch  65 Batch   20/22   train_loss = 4.489\n",
      "Epoch  67 Batch    1/22   train_loss = 4.426\n",
      "Epoch  68 Batch    4/22   train_loss = 4.418\n",
      "Epoch  69 Batch    7/22   train_loss = 4.559\n",
      "Epoch  70 Batch   10/22   train_loss = 4.416\n",
      "Epoch  71 Batch   13/22   train_loss = 4.311\n",
      "Epoch  72 Batch   16/22   train_loss = 4.319\n",
      "Epoch  73 Batch   19/22   train_loss = 4.383\n",
      "Epoch  75 Batch    0/22   train_loss = 4.153\n",
      "Epoch  76 Batch    3/22   train_loss = 4.230\n",
      "Epoch  77 Batch    6/22   train_loss = 4.188\n",
      "Epoch  78 Batch    9/22   train_loss = 4.183\n",
      "Epoch  79 Batch   12/22   train_loss = 4.145\n",
      "Epoch  80 Batch   15/22   train_loss = 4.101\n",
      "Epoch  81 Batch   18/22   train_loss = 4.168\n",
      "Epoch  82 Batch   21/22   train_loss = 4.053\n",
      "Epoch  84 Batch    2/22   train_loss = 3.966\n",
      "Epoch  85 Batch    5/22   train_loss = 4.042\n",
      "Epoch  86 Batch    8/22   train_loss = 4.063\n",
      "Epoch  87 Batch   11/22   train_loss = 4.103\n",
      "Epoch  88 Batch   14/22   train_loss = 4.094\n",
      "Epoch  89 Batch   17/22   train_loss = 4.022\n",
      "Epoch  90 Batch   20/22   train_loss = 3.908\n",
      "Epoch  92 Batch    1/22   train_loss = 3.854\n",
      "Epoch  93 Batch    4/22   train_loss = 3.834\n",
      "Epoch  94 Batch    7/22   train_loss = 3.977\n",
      "Epoch  95 Batch   10/22   train_loss = 3.852\n",
      "Epoch  96 Batch   13/22   train_loss = 3.840\n",
      "Epoch  97 Batch   16/22   train_loss = 3.783\n",
      "Epoch  98 Batch   19/22   train_loss = 3.890\n",
      "Epoch 100 Batch    0/22   train_loss = 3.612\n",
      "Epoch 101 Batch    3/22   train_loss = 3.695\n",
      "Epoch 102 Batch    6/22   train_loss = 3.651\n",
      "Epoch 103 Batch    9/22   train_loss = 3.647\n",
      "Epoch 104 Batch   12/22   train_loss = 3.659\n",
      "Epoch 105 Batch   15/22   train_loss = 3.572\n",
      "Epoch 106 Batch   18/22   train_loss = 3.564\n",
      "Epoch 107 Batch   21/22   train_loss = 3.528\n",
      "Epoch 109 Batch    2/22   train_loss = 3.464\n",
      "Epoch 110 Batch    5/22   train_loss = 3.475\n",
      "Epoch 111 Batch    8/22   train_loss = 3.556\n",
      "Epoch 112 Batch   11/22   train_loss = 3.596\n",
      "Epoch 113 Batch   14/22   train_loss = 3.618\n",
      "Epoch 114 Batch   17/22   train_loss = 3.586\n",
      "Epoch 115 Batch   20/22   train_loss = 3.503\n",
      "Epoch 117 Batch    1/22   train_loss = 3.397\n",
      "Epoch 118 Batch    4/22   train_loss = 3.369\n",
      "Epoch 119 Batch    7/22   train_loss = 3.548\n",
      "Epoch 120 Batch   10/22   train_loss = 3.420\n",
      "Epoch 121 Batch   13/22   train_loss = 3.405\n",
      "Epoch 122 Batch   16/22   train_loss = 3.369\n",
      "Epoch 123 Batch   19/22   train_loss = 3.449\n",
      "Epoch 125 Batch    0/22   train_loss = 3.163\n",
      "Epoch 126 Batch    3/22   train_loss = 3.293\n",
      "Epoch 127 Batch    6/22   train_loss = 3.292\n",
      "Epoch 128 Batch    9/22   train_loss = 3.304\n",
      "Epoch 129 Batch   12/22   train_loss = 3.324\n",
      "Epoch 130 Batch   15/22   train_loss = 3.221\n",
      "Epoch 131 Batch   18/22   train_loss = 3.176\n",
      "Epoch 132 Batch   21/22   train_loss = 3.127\n",
      "Epoch 134 Batch    2/22   train_loss = 3.070\n",
      "Epoch 135 Batch    5/22   train_loss = 3.051\n",
      "Epoch 136 Batch    8/22   train_loss = 3.098\n",
      "Epoch 137 Batch   11/22   train_loss = 3.197\n",
      "Epoch 138 Batch   14/22   train_loss = 3.155\n",
      "Epoch 139 Batch   17/22   train_loss = 3.119\n",
      "Epoch 140 Batch   20/22   train_loss = 3.074\n",
      "Epoch 142 Batch    1/22   train_loss = 2.996\n",
      "Epoch 143 Batch    4/22   train_loss = 2.999\n",
      "Epoch 144 Batch    7/22   train_loss = 3.144\n",
      "Epoch 145 Batch   10/22   train_loss = 3.006\n",
      "Epoch 146 Batch   13/22   train_loss = 2.963\n",
      "Epoch 147 Batch   16/22   train_loss = 2.926\n",
      "Epoch 148 Batch   19/22   train_loss = 3.038\n",
      "Epoch 150 Batch    0/22   train_loss = 2.775\n",
      "Epoch 151 Batch    3/22   train_loss = 2.941\n",
      "Epoch 152 Batch    6/22   train_loss = 2.859\n",
      "Epoch 153 Batch    9/22   train_loss = 2.915\n",
      "Epoch 154 Batch   12/22   train_loss = 2.904\n",
      "Epoch 155 Batch   15/22   train_loss = 2.827\n",
      "Epoch 156 Batch   18/22   train_loss = 2.821\n",
      "Epoch 157 Batch   21/22   train_loss = 2.786\n",
      "Epoch 159 Batch    2/22   train_loss = 2.756\n",
      "Epoch 160 Batch    5/22   train_loss = 2.741\n",
      "Epoch 161 Batch    8/22   train_loss = 2.836\n",
      "Epoch 162 Batch   11/22   train_loss = 2.896\n",
      "Epoch 163 Batch   14/22   train_loss = 2.885\n",
      "Epoch 164 Batch   17/22   train_loss = 2.867\n",
      "Epoch 165 Batch   20/22   train_loss = 2.848\n",
      "Epoch 167 Batch    1/22   train_loss = 2.717\n",
      "Epoch 168 Batch    4/22   train_loss = 2.747\n",
      "Epoch 169 Batch    7/22   train_loss = 2.907\n",
      "Epoch 170 Batch   10/22   train_loss = 2.783\n",
      "Epoch 171 Batch   13/22   train_loss = 2.781\n",
      "Epoch 172 Batch   16/22   train_loss = 2.758\n",
      "Epoch 173 Batch   19/22   train_loss = 2.918\n",
      "Epoch 175 Batch    0/22   train_loss = 2.674\n",
      "Epoch 176 Batch    3/22   train_loss = 2.845\n",
      "Epoch 177 Batch    6/22   train_loss = 2.796\n",
      "Epoch 178 Batch    9/22   train_loss = 2.784\n",
      "Epoch 179 Batch   12/22   train_loss = 2.765\n",
      "Epoch 180 Batch   15/22   train_loss = 2.703\n",
      "Epoch 181 Batch   18/22   train_loss = 2.660\n",
      "Epoch 182 Batch   21/22   train_loss = 2.650\n",
      "Epoch 184 Batch    2/22   train_loss = 2.628\n",
      "Epoch 185 Batch    5/22   train_loss = 2.567\n",
      "Epoch 186 Batch    8/22   train_loss = 2.672\n",
      "Epoch 187 Batch   11/22   train_loss = 2.745\n",
      "Epoch 188 Batch   14/22   train_loss = 2.709\n",
      "Epoch 189 Batch   17/22   train_loss = 2.647\n",
      "Epoch 190 Batch   20/22   train_loss = 2.641\n",
      "Epoch 192 Batch    1/22   train_loss = 2.548\n",
      "Epoch 193 Batch    4/22   train_loss = 2.585\n",
      "Epoch 194 Batch    7/22   train_loss = 2.735\n",
      "Epoch 195 Batch   10/22   train_loss = 2.595\n",
      "Epoch 196 Batch   13/22   train_loss = 2.591\n",
      "Epoch 197 Batch   16/22   train_loss = 2.586\n",
      "Epoch 198 Batch   19/22   train_loss = 2.706\n",
      "Epoch 200 Batch    0/22   train_loss = 2.408\n",
      "Epoch 201 Batch    3/22   train_loss = 2.629\n",
      "Epoch 202 Batch    6/22   train_loss = 2.560\n",
      "Epoch 203 Batch    9/22   train_loss = 2.589\n",
      "Epoch 204 Batch   12/22   train_loss = 2.630\n",
      "Epoch 205 Batch   15/22   train_loss = 2.533\n",
      "Epoch 206 Batch   18/22   train_loss = 2.521\n"
     ]
    },
    {
     "name": "stdout",
     "output_type": "stream",
     "text": [
      "Epoch 207 Batch   21/22   train_loss = 2.531\n",
      "Epoch 209 Batch    2/22   train_loss = 2.486\n",
      "Epoch 210 Batch    5/22   train_loss = 2.440\n",
      "Epoch 211 Batch    8/22   train_loss = 2.575\n",
      "Epoch 212 Batch   11/22   train_loss = 2.633\n",
      "Epoch 213 Batch   14/22   train_loss = 2.621\n",
      "Epoch 214 Batch   17/22   train_loss = 2.593\n",
      "Epoch 215 Batch   20/22   train_loss = 2.630\n",
      "Epoch 217 Batch    1/22   train_loss = 2.500\n",
      "Epoch 218 Batch    4/22   train_loss = 2.531\n",
      "Epoch 219 Batch    7/22   train_loss = 2.673\n",
      "Epoch 220 Batch   10/22   train_loss = 2.536\n",
      "Epoch 221 Batch   13/22   train_loss = 2.473\n",
      "Epoch 222 Batch   16/22   train_loss = 2.462\n",
      "Epoch 223 Batch   19/22   train_loss = 2.593\n",
      "Epoch 225 Batch    0/22   train_loss = 2.291\n",
      "Epoch 226 Batch    3/22   train_loss = 2.483\n",
      "Epoch 227 Batch    6/22   train_loss = 2.467\n",
      "Epoch 228 Batch    9/22   train_loss = 2.500\n",
      "Epoch 229 Batch   12/22   train_loss = 2.509\n",
      "Epoch 230 Batch   15/22   train_loss = 2.428\n",
      "Epoch 231 Batch   18/22   train_loss = 2.384\n",
      "Epoch 232 Batch   21/22   train_loss = 2.414\n",
      "Epoch 234 Batch    2/22   train_loss = 2.439\n",
      "Epoch 235 Batch    5/22   train_loss = 2.408\n",
      "Epoch 236 Batch    8/22   train_loss = 2.511\n",
      "Epoch 237 Batch   11/22   train_loss = 2.540\n",
      "Epoch 238 Batch   14/22   train_loss = 2.543\n",
      "Epoch 239 Batch   17/22   train_loss = 2.519\n",
      "Epoch 240 Batch   20/22   train_loss = 2.510\n",
      "Epoch 242 Batch    1/22   train_loss = 2.388\n",
      "Epoch 243 Batch    4/22   train_loss = 2.428\n",
      "Epoch 244 Batch    7/22   train_loss = 2.595\n",
      "Epoch 245 Batch   10/22   train_loss = 2.442\n",
      "Epoch 246 Batch   13/22   train_loss = 2.410\n",
      "Epoch 247 Batch   16/22   train_loss = 2.394\n",
      "Epoch 248 Batch   19/22   train_loss = 2.519\n",
      "Epoch 250 Batch    0/22   train_loss = 2.229\n",
      "Epoch 251 Batch    3/22   train_loss = 2.427\n",
      "Epoch 252 Batch    6/22   train_loss = 2.387\n",
      "Epoch 253 Batch    9/22   train_loss = 2.408\n",
      "Epoch 254 Batch   12/22   train_loss = 2.440\n",
      "Epoch 255 Batch   15/22   train_loss = 2.359\n",
      "Epoch 256 Batch   18/22   train_loss = 2.315\n",
      "Epoch 257 Batch   21/22   train_loss = 2.329\n",
      "Epoch 259 Batch    2/22   train_loss = 2.314\n",
      "Epoch 260 Batch    5/22   train_loss = 2.290\n",
      "Epoch 261 Batch    8/22   train_loss = 2.413\n",
      "Epoch 262 Batch   11/22   train_loss = 2.477\n",
      "Epoch 263 Batch   14/22   train_loss = 2.473\n",
      "Epoch 264 Batch   17/22   train_loss = 2.447\n",
      "Epoch 265 Batch   20/22   train_loss = 2.428\n",
      "Epoch 267 Batch    1/22   train_loss = 2.297\n",
      "Epoch 268 Batch    4/22   train_loss = 2.355\n",
      "Epoch 269 Batch    7/22   train_loss = 2.524\n",
      "Epoch 270 Batch   10/22   train_loss = 2.409\n",
      "Epoch 271 Batch   13/22   train_loss = 2.355\n",
      "Epoch 272 Batch   16/22   train_loss = 2.342\n",
      "Epoch 273 Batch   19/22   train_loss = 2.498\n",
      "Epoch 275 Batch    0/22   train_loss = 2.194\n",
      "Epoch 276 Batch    3/22   train_loss = 2.384\n",
      "Epoch 277 Batch    6/22   train_loss = 2.374\n",
      "Epoch 278 Batch    9/22   train_loss = 2.394\n",
      "Epoch 279 Batch   12/22   train_loss = 2.404\n",
      "Epoch 280 Batch   15/22   train_loss = 2.318\n",
      "Epoch 281 Batch   18/22   train_loss = 2.294\n",
      "Epoch 282 Batch   21/22   train_loss = 2.298\n",
      "Epoch 284 Batch    2/22   train_loss = 2.279\n",
      "Epoch 285 Batch    5/22   train_loss = 2.261\n",
      "Epoch 286 Batch    8/22   train_loss = 2.389\n",
      "Epoch 287 Batch   11/22   train_loss = 2.454\n",
      "Epoch 288 Batch   14/22   train_loss = 2.448\n",
      "Epoch 289 Batch   17/22   train_loss = 2.393\n",
      "Epoch 290 Batch   20/22   train_loss = 2.396\n",
      "Epoch 292 Batch    1/22   train_loss = 2.273\n",
      "Epoch 293 Batch    4/22   train_loss = 2.344\n",
      "Epoch 294 Batch    7/22   train_loss = 2.503\n",
      "Epoch 295 Batch   10/22   train_loss = 2.377\n",
      "Epoch 296 Batch   13/22   train_loss = 2.340\n",
      "Epoch 297 Batch   16/22   train_loss = 2.319\n",
      "Epoch 298 Batch   19/22   train_loss = 2.456\n",
      "Epoch 300 Batch    0/22   train_loss = 2.161\n",
      "Epoch 301 Batch    3/22   train_loss = 2.357\n",
      "Epoch 302 Batch    6/22   train_loss = 2.355\n",
      "Epoch 303 Batch    9/22   train_loss = 2.368\n",
      "Epoch 304 Batch   12/22   train_loss = 2.385\n",
      "Epoch 305 Batch   15/22   train_loss = 2.300\n",
      "Epoch 306 Batch   18/22   train_loss = 2.254\n",
      "Epoch 307 Batch   21/22   train_loss = 2.275\n",
      "Epoch 309 Batch    2/22   train_loss = 2.246\n",
      "Epoch 310 Batch    5/22   train_loss = 2.244\n",
      "Epoch 311 Batch    8/22   train_loss = 2.389\n",
      "Epoch 312 Batch   11/22   train_loss = 2.435\n",
      "Epoch 313 Batch   14/22   train_loss = 2.416\n",
      "Epoch 314 Batch   17/22   train_loss = 2.392\n",
      "Epoch 315 Batch   20/22   train_loss = 2.367\n",
      "Epoch 317 Batch    1/22   train_loss = 2.254\n",
      "Epoch 318 Batch    4/22   train_loss = 2.321\n",
      "Epoch 319 Batch    7/22   train_loss = 2.473\n",
      "Epoch 320 Batch   10/22   train_loss = 2.357\n",
      "Epoch 321 Batch   13/22   train_loss = 2.319\n",
      "Epoch 322 Batch   16/22   train_loss = 2.295\n",
      "Epoch 323 Batch   19/22   train_loss = 2.442\n",
      "Epoch 325 Batch    0/22   train_loss = 2.144\n",
      "Epoch 326 Batch    3/22   train_loss = 2.322\n",
      "Epoch 327 Batch    6/22   train_loss = 2.342\n",
      "Epoch 328 Batch    9/22   train_loss = 2.365\n",
      "Epoch 329 Batch   12/22   train_loss = 2.371\n",
      "Epoch 330 Batch   15/22   train_loss = 2.291\n",
      "Epoch 331 Batch   18/22   train_loss = 2.245\n",
      "Epoch 332 Batch   21/22   train_loss = 2.265\n",
      "Epoch 334 Batch    2/22   train_loss = 2.241\n",
      "Epoch 335 Batch    5/22   train_loss = 2.231\n",
      "Epoch 336 Batch    8/22   train_loss = 2.364\n",
      "Epoch 337 Batch   11/22   train_loss = 2.409\n",
      "Epoch 338 Batch   14/22   train_loss = 2.403\n",
      "Epoch 339 Batch   17/22   train_loss = 2.378\n",
      "Epoch 340 Batch   20/22   train_loss = 2.361\n",
      "Epoch 342 Batch    1/22   train_loss = 2.248\n",
      "Epoch 343 Batch    4/22   train_loss = 2.307\n",
      "Epoch 344 Batch    7/22   train_loss = 2.461\n",
      "Epoch 345 Batch   10/22   train_loss = 2.348\n",
      "Epoch 346 Batch   13/22   train_loss = 2.309\n",
      "Epoch 347 Batch   16/22   train_loss = 2.281\n",
      "Epoch 348 Batch   19/22   train_loss = 2.423\n",
      "Epoch 350 Batch    0/22   train_loss = 2.129\n",
      "Epoch 351 Batch    3/22   train_loss = 2.331\n",
      "Epoch 352 Batch    6/22   train_loss = 2.321\n",
      "Epoch 353 Batch    9/22   train_loss = 2.353\n",
      "Epoch 354 Batch   12/22   train_loss = 2.357\n",
      "Epoch 355 Batch   15/22   train_loss = 2.272\n",
      "Epoch 356 Batch   18/22   train_loss = 2.229\n",
      "Epoch 357 Batch   21/22   train_loss = 2.248\n",
      "Epoch 359 Batch    2/22   train_loss = 2.224\n",
      "Epoch 360 Batch    5/22   train_loss = 2.206\n",
      "Epoch 361 Batch    8/22   train_loss = 2.357\n",
      "Epoch 362 Batch   11/22   train_loss = 2.395\n",
      "Epoch 363 Batch   14/22   train_loss = 2.406\n",
      "Epoch 364 Batch   17/22   train_loss = 2.358\n",
      "Epoch 365 Batch   20/22   train_loss = 2.338\n",
      "Epoch 367 Batch    1/22   train_loss = 2.235\n",
      "Epoch 368 Batch    4/22   train_loss = 2.314\n",
      "Epoch 369 Batch    7/22   train_loss = 2.450\n",
      "Epoch 370 Batch   10/22   train_loss = 2.337\n",
      "Epoch 371 Batch   13/22   train_loss = 2.279\n",
      "Epoch 372 Batch   16/22   train_loss = 2.279\n",
      "Epoch 373 Batch   19/22   train_loss = 2.414\n",
      "Epoch 375 Batch    0/22   train_loss = 2.132\n",
      "Epoch 376 Batch    3/22   train_loss = 2.304\n",
      "Epoch 377 Batch    6/22   train_loss = 2.319\n",
      "Epoch 378 Batch    9/22   train_loss = 2.341\n",
      "Epoch 379 Batch   12/22   train_loss = 2.333\n",
      "Epoch 380 Batch   15/22   train_loss = 2.270\n",
      "Epoch 381 Batch   18/22   train_loss = 2.221\n",
      "Epoch 382 Batch   21/22   train_loss = 2.251\n",
      "Epoch 384 Batch    2/22   train_loss = 2.217\n",
      "Epoch 385 Batch    5/22   train_loss = 2.206\n",
      "Epoch 386 Batch    8/22   train_loss = 2.348\n",
      "Epoch 387 Batch   11/22   train_loss = 2.387\n",
      "Epoch 388 Batch   14/22   train_loss = 2.394\n",
      "Epoch 389 Batch   17/22   train_loss = 2.346\n",
      "Epoch 390 Batch   20/22   train_loss = 2.334\n",
      "Epoch 392 Batch    1/22   train_loss = 2.220\n",
      "Epoch 393 Batch    4/22   train_loss = 2.309\n",
      "Epoch 394 Batch    7/22   train_loss = 2.437\n",
      "Epoch 395 Batch   10/22   train_loss = 2.328\n",
      "Epoch 396 Batch   13/22   train_loss = 2.286\n",
      "Epoch 397 Batch   16/22   train_loss = 2.263\n",
      "Epoch 398 Batch   19/22   train_loss = 2.410\n",
      "Model Trained and Saved\n"
     ]
    }
   ],
   "source": [
    "\"\"\"\n",
    "DON'T MODIFY ANYTHING IN THIS CELL\n",
    "\"\"\"\n",
    "batches = get_batches(int_text, batch_size, seq_length)\n",
    "\n",
    "with tf.Session(graph=train_graph) as sess:\n",
    "    sess.run(tf.global_variables_initializer())\n",
    "\n",
    "    for epoch_i in range(num_epochs):\n",
    "        state = sess.run(initial_state, {input_text: batches[0][0]})\n",
    "\n",
    "        for batch_i, (x, y) in enumerate(batches):\n",
    "            feed = {\n",
    "                input_text: x,\n",
    "                targets: y,\n",
    "                initial_state: state,\n",
    "                lr: learning_rate}\n",
    "            train_loss, state, _ = sess.run([cost, final_state, train_op], feed)\n",
    "\n",
    "            # Show every <show_every_n_batches> batches\n",
    "            if (epoch_i * len(batches) + batch_i) % show_every_n_batches == 0:\n",
    "                print('Epoch {:>3} Batch {:>4}/{}   train_loss = {:.3f}'.format(\n",
    "                    epoch_i,\n",
    "                    batch_i,\n",
    "                    len(batches),\n",
    "                    train_loss))\n",
    "\n",
    "    # Save Model\n",
    "    saver = tf.train.Saver()\n",
    "    saver.save(sess, save_dir)\n",
    "    print('Model Trained and Saved')"
   ]
  },
  {
   "cell_type": "markdown",
   "metadata": {},
   "source": [
    "## Save Parameters\n",
    "Save `seq_length` and `save_dir` for generating a new TV script."
   ]
  },
  {
   "cell_type": "code",
   "execution_count": 134,
   "metadata": {},
   "outputs": [],
   "source": [
    "\"\"\"\n",
    "DON'T MODIFY ANYTHING IN THIS CELL\n",
    "\"\"\"\n",
    "# Save parameters for checkpoint\n",
    "helper.save_params((seq_length, save_dir))"
   ]
  },
  {
   "cell_type": "markdown",
   "metadata": {},
   "source": [
    "# Checkpoint"
   ]
  },
  {
   "cell_type": "code",
   "execution_count": 135,
   "metadata": {},
   "outputs": [],
   "source": [
    "\"\"\"\n",
    "DON'T MODIFY ANYTHING IN THIS CELL\n",
    "\"\"\"\n",
    "import tensorflow as tf\n",
    "import numpy as np\n",
    "import helper\n",
    "import problem_unittests as tests\n",
    "\n",
    "_, vocab_to_int, int_to_vocab, token_dict = helper.load_preprocess()\n",
    "seq_length, load_dir = helper.load_params()"
   ]
  },
  {
   "cell_type": "markdown",
   "metadata": {},
   "source": [
    "## Implement Generate Functions\n",
    "### Get Tensors\n",
    "Get tensors from `loaded_graph` using the function [`get_tensor_by_name()`](https://www.tensorflow.org/api_docs/python/tf/Graph#get_tensor_by_name).  Get the tensors using the following names:\n",
    "- \"input:0\"\n",
    "- \"initial_state:0\"\n",
    "- \"final_state:0\"\n",
    "- \"probs:0\"\n",
    "\n",
    "Return the tensors in the following tuple `(InputTensor, InitialStateTensor, FinalStateTensor, ProbsTensor)` "
   ]
  },
  {
   "cell_type": "code",
   "execution_count": 136,
   "metadata": {},
   "outputs": [
    {
     "name": "stdout",
     "output_type": "stream",
     "text": [
      "Tests Passed\n"
     ]
    }
   ],
   "source": [
    "def get_tensors(loaded_graph):\n",
    "    \"\"\"\n",
    "    Get input, initial state, final state, and probabilities tensor from <loaded_graph>\n",
    "    :param loaded_graph: TensorFlow graph loaded from file\n",
    "    :return: Tuple (InputTensor, InitialStateTensor, FinalStateTensor, ProbsTensor)\n",
    "    \"\"\"\n",
    "    # TODO: Implement Function\n",
    "    InputTensor = loaded_graph.get_tensor_by_name(\"input:0\")\n",
    "    InitialStateTensor = loaded_graph.get_tensor_by_name(\"initial_state:0\")\n",
    "    FinalStateTensor = loaded_graph.get_tensor_by_name(\"final_state:0\")\n",
    "    ProbsTensor = loaded_graph.get_tensor_by_name(\"probs:0\")\n",
    "    return (InputTensor, InitialStateTensor, FinalStateTensor, ProbsTensor)\n",
    "\n",
    "\n",
    "\"\"\"\n",
    "DON'T MODIFY ANYTHING IN THIS CELL THAT IS BELOW THIS LINE\n",
    "\"\"\"\n",
    "tests.test_get_tensors(get_tensors)"
   ]
  },
  {
   "cell_type": "markdown",
   "metadata": {},
   "source": [
    "### Choose Word\n",
    "Implement the `pick_word()` function to select the next word using `probabilities`."
   ]
  },
  {
   "cell_type": "code",
   "execution_count": 137,
   "metadata": {},
   "outputs": [
    {
     "name": "stdout",
     "output_type": "stream",
     "text": [
      "Tests Passed\n"
     ]
    }
   ],
   "source": [
    "def pick_word(probabilities, int_to_vocab):\n",
    "    \"\"\"\n",
    "    Pick the next word in the generated text\n",
    "    :param probabilities: Probabilites of the next word\n",
    "    :param int_to_vocab: Dictionary of word ids as the keys and words as the values\n",
    "    :return: String of the predicted word\n",
    "    \"\"\"\n",
    "    # TODO: Implement Function\n",
    "    predict = np.argmax(probabilities)\n",
    "    next_word = int_to_vocab[predict]\n",
    "    return next_word\n",
    "\n",
    "\n",
    "\"\"\"\n",
    "DON'T MODIFY ANYTHING IN THIS CELL THAT IS BELOW THIS LINE\n",
    "\"\"\"\n",
    "tests.test_pick_word(pick_word)"
   ]
  },
  {
   "cell_type": "markdown",
   "metadata": {},
   "source": [
    "## Generate TV Script\n",
    "This will generate the TV script for you.  Set `gen_length` to the length of TV script you want to generate."
   ]
  },
  {
   "cell_type": "code",
   "execution_count": 138,
   "metadata": {},
   "outputs": [
    {
     "name": "stdout",
     "output_type": "stream",
     "text": [
      "moe_szyslak:(into phone) moe's tavern. where the sign? let's make him again.\n",
      "health_inspector:(still laugh) you're on a night / from.\n",
      "\n",
      "\n",
      "homer_simpson: eh, i'd like a sign with two people will like a new since my best friend.\n",
      "moe_szyslak:(to little sign) ah, marge... there what do we like that little?\n",
      "marge_simpson: that's okay, let's need this again.\n",
      "homer_simpson:(put) her over their use the house.\n",
      "krusty_the_clown: so.\n",
      "homer_simpson:(drunk voice into homer, moe?\n",
      "homer_simpson: moe, this is pretty like to old people drink for her...\n",
      "chief_wiggum:(low voice) oh god!\n",
      "homer_simpson: that's not the sign to show your love of mouth?\n",
      "homer_simpson: let's sorry me with this gold--\n",
      "moe_szyslak: then we should over duff with??\n",
      "marge_simpson: okay, homer.\n",
      "homer_simpson:(drunk we're pretty sounds up) the hell god, you're in the ugly of a house.\n",
      "seymour_skinner: how is my dad or\n"
     ]
    }
   ],
   "source": [
    "gen_length = 200\n",
    "# homer_simpson, moe_szyslak, or Barney_Gumble\n",
    "prime_word = 'moe_szyslak'\n",
    "\n",
    "\"\"\"\n",
    "DON'T MODIFY ANYTHING IN THIS CELL THAT IS BELOW THIS LINE\n",
    "\"\"\"\n",
    "loaded_graph = tf.Graph()\n",
    "with tf.Session(graph=loaded_graph) as sess:\n",
    "    # Load saved model\n",
    "    loader = tf.train.import_meta_graph(load_dir + '.meta')\n",
    "    loader.restore(sess, load_dir)\n",
    "\n",
    "    # Get Tensors from loaded model\n",
    "    input_text, initial_state, final_state, probs = get_tensors(loaded_graph)\n",
    "\n",
    "    # Sentences generation setup\n",
    "    gen_sentences = [prime_word + ':']\n",
    "    prev_state = sess.run(initial_state, {input_text: np.array([[1]])})\n",
    "\n",
    "    # Generate sentences\n",
    "    for n in range(gen_length):\n",
    "        # Dynamic Input\n",
    "        dyn_input = [[vocab_to_int[word] for word in gen_sentences[-seq_length:]]]\n",
    "        dyn_seq_length = len(dyn_input[0])\n",
    "\n",
    "        # Get Prediction\n",
    "        probabilities, prev_state = sess.run(\n",
    "            [probs, final_state],\n",
    "            {input_text: dyn_input, initial_state: prev_state})\n",
    "        \n",
    "        pred_word = pick_word(probabilities[dyn_seq_length-1], int_to_vocab)\n",
    "\n",
    "        gen_sentences.append(pred_word)\n",
    "    \n",
    "    # Remove tokens\n",
    "    tv_script = ' '.join(gen_sentences)\n",
    "    for key, token in token_dict.items():\n",
    "        ending = ' ' if key in ['\\n', '(', '\"'] else ''\n",
    "        tv_script = tv_script.replace(' ' + token.lower(), key)\n",
    "    tv_script = tv_script.replace('\\n ', '\\n')\n",
    "    tv_script = tv_script.replace('( ', '(')\n",
    "        \n",
    "    print(tv_script)"
   ]
  },
  {
   "cell_type": "markdown",
   "metadata": {},
   "source": [
    "# The TV Script is Nonsensical\n",
    "It's ok if the TV script doesn't make any sense.  We trained on less than a megabyte of text.  In order to get good results, you'll have to use a smaller vocabulary or get more data.  Luckily there's more data!  As we mentioned in the beggining of this project, this is a subset of [another dataset](https://www.kaggle.com/wcukierski/the-simpsons-by-the-data).  We didn't have you train on all the data, because that would take too long.  However, you are free to train your neural network on all the data.  After you complete the project, of course.\n",
    "# Submitting This Project\n",
    "When submitting this project, make sure to run all the cells before saving the notebook. Save the notebook file as \"dlnd_tv_script_generation.ipynb\" and save it as a HTML file under \"File\" -> \"Download as\". Include the \"helper.py\" and \"problem_unittests.py\" files in your submission."
   ]
  }
 ],
 "metadata": {
  "kernelspec": {
   "display_name": "Python 3",
   "language": "python",
   "name": "python3"
  },
  "language_info": {
   "codemirror_mode": {
    "name": "ipython",
    "version": 3
   },
   "file_extension": ".py",
   "mimetype": "text/x-python",
   "name": "python",
   "nbconvert_exporter": "python",
   "pygments_lexer": "ipython3",
   "version": "3.5.2"
  },
  "widgets": {
   "state": {},
   "version": "1.1.2"
  }
 },
 "nbformat": 4,
 "nbformat_minor": 1
}
